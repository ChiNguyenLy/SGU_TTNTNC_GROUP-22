{
 "cells": [
  {
   "cell_type": "markdown",
   "metadata": {},
   "source": [
    "# Tìm kiếm: Giải mê cung sử dụng Agent dựa trên mục tiêu\n",
    "\n",
    "Tên sinh viên: [Thêm tên của bạn]\n",
    "\n",
    "Tôi đã sử dụng các công cụ AI sau: [liệt kê các công cụ]\n",
    "\n",
    "Tôi hiểu rằng bài nộp cần phải là công việc của riêng tôi: [chữ cái đầu của bạn]"
   ]
  },
  {
   "cell_type": "markdown",
   "metadata": {},
   "source": [
    "## Kết quả học tập\n",
    "\n",
    "* Xây dựng các bài toán tìm kiếm sử dụng các thành phần chính như trạng thái ban đầu, hành động và trạng thái mục tiêu trong môi trường xác định, có thể quan sát đầy đủ.\n",
    "* Triển khai và so sánh các thuật toán tìm kiếm bao gồm BFS, DFS, GBFS, A*, và IDS để tìm đường đi trong mê cung.\n",
    "* Phân tích hiệu suất thuật toán bằng cách đo chi phí đường đi, số nút mở rộng, độ sâu và sử dụng bộ nhớ trên các loại mê cung khác nhau.\n",
    "* Sử dụng các công cụ trực quan hóa để biểu diễn đường đi trong mê cung và hỗ trợ gỡ lỗi và phân tích."
   ]
  },
  {
   "cell_type": "markdown",
   "metadata": {},
   "source": [
    "## Hướng dẫn\n",
    "\n",
    "Tổng điểm: Sinh viên đại học 100 + 5 điểm thưởng / Sinh viên sau đại học 110\n",
    "\n",
    "Hoàn thành notebook này. Sử dụng các ô notebook được cung cấp và thêm các ô code và markdown bổ sung khi cần thiết. Nộp file notebook và notebook được hiển thị đầy đủ với tất cả outputs dưới dạng file HTML.\n",
    "\n",
    "\n",
    "## Giới thiệu\n",
    "\n",
    "Agent phải sử dụng bản đồ được cung cấp để lập kế hoạch đường đi qua mê cung từ vị trí bắt đầu $S$ đến vị trí mục tiêu $G$. Đây là bài tập lập kế hoạch cho một agent dựa trên mục tiêu, vì vậy bạn không cần triển khai một môi trường, chỉ cần sử dụng bản đồ để tìm kiếm đường đi. Một khi kế hoạch được thực hiện, agent trong một môi trường xác định (tức là, hàm chuyển đổi là xác định với kết quả của mỗi cặp state/action được cố định và không có tính ngẫu nhiên) chỉ có thể theo đường đi và không cần quan tâm đến các percept.\n",
    "Điều này cũng được gọi là **[hệ thống vòng mở](https://en.wikipedia.org/wiki/Open-loop_controller).**\n",
    "Giai đoạn thực thi là tầm thường và có thể được thực hiện bằng một model-based reflex agent \n",
    "bỏ qua tất cả percept và chỉ theo kế hoạch. Chúng ta không triển khai nó trong bài tập này.\n",
    "\n",
    "Với việc agent có một bản đồ hoàn chỉnh và chính xác, môi trường là **có thể quan sát đầy đủ, rời rạc, xác định và đã biết.** \n",
    "Ghi nhớ:\n",
    "\n",
    "* **Có thể quan sát đầy đủ** có nghĩa là agent có thể thấy trạng thái của nó và các hành động có sẵn là gì. Điều đó có nghĩa là **percept chứa trạng thái hiện tại đầy đủ.**\n",
    "Ở đây, trong quá trình lập kế hoạch, agent luôn thấy tọa độ x và y của nó trên bản đồ và\n",
    "cũng thấy khi nó đã đạt đến trạng thái mục tiêu.\n",
    "* **Rời rạc** có nghĩa là chúng ta có một **tập hữu hạn các trạng thái.** Mê cung có một tập hữu hạn \n",
    "các ô vuông mà agent có thể ở trong đó.\n",
    "* **Xác định** có nghĩa là **hàm chuyển đổi không chứa tính ngẫu nhiên.** Một hành động trong một trạng thái sẽ luôn tạo ra cùng một kết quả. Đi về phía nam từ trạng thái bắt đầu luôn sẽ dẫn đến cùng một ô vuông.\n",
    "* **Đã biết** có nghĩa là agent **biết hàm chuyển đổi đầy đủ.** Agent \n",
    "có bản đồ và do đó biết vị trí của nó thay đổi như thế nào khi nó đi theo một hướng.\n",
    "\n",
    "Các triển khai thuật toán tree search mà bạn tìm thấy trực tuyến thường đến từ các khóa học cấu trúc dữ liệu và có mục đích khác với AI tree search. Các thuật toán này giả định rằng bạn đã có một cây trong bộ nhớ. Chúng ta quan tâm đến việc tạo động một search tree với mục đích tìm một đường đi tốt/tốt nhất từ nút gốc đến trạng thái mục tiêu. Tuân thủ chặt chẽ mã giả được trình bày trong sách giáo khoa (và được sao chép trong các slide). Lý tưởng nhất, chúng ta muốn chỉ tìm kiếm một phần nhỏ của mê cung, tức là tạo một search tree với ít nút nhất có thể.\n",
    "\n",
    "Một số mê cung cho bài tập này được lưu trữ dưới dạng file text. Đây là ví dụ mê cung nhỏ:"
   ]
  },
  {
   "cell_type": "code",
   "execution_count": 62,
   "metadata": {},
   "outputs": [
    {
     "name": "stdout",
     "output_type": "stream",
     "text": [
      "XXXXXXXXXXXXXXXXXXXXXX\n",
      "X XX        X X      X\n",
      "X    XXXXXX X XXXXXX X\n",
      "XXXXXX     S  X      X\n",
      "X    X XXXXXX XX XXXXX\n",
      "X XXXX X         X   X\n",
      "X        XXX XXX   X X\n",
      "XXXXXXXXXX    XXXXXX X\n",
      "XG         XX        X\n",
      "XXXXXXXXXXXXXXXXXXXXXX\n",
      "\n"
     ]
    }
   ],
   "source": [
    "with open(\"small_maze.txt\", \"r\") as f:\n",
    "    maze_str = f.read()\n",
    "print(maze_str)"
   ]
  },
  {
   "cell_type": "markdown",
   "metadata": {},
   "source": [
    "**Lưu ý:** Nếu bạn gặp lỗi ở đây rằng không thể tìm thấy file, thì bạn cần tải nó xuống. Xem [HOWTO Work on Assignments.](https://github.com/mhahsler/CS7320-AI/blob/master/HOWTOs/working_on_assignments.md)"
   ]
  },
  {
   "cell_type": "markdown",
   "metadata": {},
   "source": [
    "## Phân tích và in đẹp mê cung\n",
    "\n",
    "Mê cung cũng có thể được hiển thị màu sắc bằng code trong module [maze_helper.py](maze_helper.py). Code phân tích chuỗi đại diện cho mê cung và chuyển đổi nó thành một mảng 2d `numpy` mà bạn có thể sử dụng trong triển khai của mình. Vị trí được biểu diễn như một 2-tuple có dạng `(row, col)`."
   ]
  },
  {
   "cell_type": "code",
   "execution_count": 63,
   "metadata": {
    "tags": []
   },
   "outputs": [
    {
     "name": "stdout",
     "output_type": "stream",
     "text": [
      "Position(0,0): X\n",
      "Position(8,1): G\n"
     ]
    }
   ],
   "source": [
    "import maze_helper as mh\n",
    "\n",
    "maze = mh.parse_maze(maze_str)\n",
    "\n",
    "# look at a position in the maze by subsetting the 2d array\n",
    "print(\"Position(0,0):\", maze[0, 0])\n",
    "\n",
    "# there is also a helper function called `look(maze, pos)` available\n",
    "# which uses a 2-tuple for the position.\n",
    "print(\"Position(8,1):\", mh.look(maze, (8, 1)))"
   ]
  },
  {
   "cell_type": "markdown",
   "metadata": {},
   "source": [
    "Một hàm helper để trực quan hóa mê cung cũng có sẵn."
   ]
  },
  {
   "cell_type": "code",
   "execution_count": 64,
   "metadata": {},
   "outputs": [
    {
     "data": {
      "image/png": "[encoded data removed]",
      "text/plain": [
       "<Figure size 640x480 with 1 Axes>"
      ]
     },
     "metadata": {
      "image/png": {
       "height": 269,
       "width": 534
      }
     },
     "output_type": "display_data"
    }
   ],
   "source": [
    "%matplotlib inline\n",
    "%config InlineBackend.figure_format = 'retina'\n",
    "# use higher resolution images in notebooks\n",
    "\n",
    "mh.show_maze(maze)"
   ]
  },
  {
   "cell_type": "markdown",
   "metadata": {},
   "source": [
    "Tìm vị trí `(x,y)` của điểm bắt đầu và mục tiêu bằng hàm helper `find_pos()`"
   ]
  },
  {
   "cell_type": "code",
   "execution_count": 65,
   "metadata": {},
   "outputs": [
    {
     "name": "stdout",
     "output_type": "stream",
     "text": [
      "Start location: (np.int64(3), np.int64(11))\n",
      "Goal location: (np.int64(8), np.int64(1))\n"
     ]
    }
   ],
   "source": [
    "print(\"Start location:\", mh.find_pos(maze, what = \"S\"))\n",
    "print(\"Goal location:\", mh.find_pos(maze, what = \"G\"))"
   ]
  },
  {
   "cell_type": "markdown",
   "metadata": {},
   "source": [
    "Tài liệu hàm helper."
   ]
  },
  {
   "cell_type": "code",
   "execution_count": 66,
   "metadata": {},
   "outputs": [
    {
     "name": "stdout",
     "output_type": "stream",
     "text": [
      "Help on module maze_helper:\n",
      "\n",
      "NAME\n",
      "    maze_helper\n",
      "\n",
      "DESCRIPTION\n",
      "    Code for the Maze Assignment by Michael Hahsler\n",
      "    Usage:\n",
      "        import maze_helper as mh\n",
      "        mh.show_some_mazes()\n",
      "\n",
      "FUNCTIONS\n",
      "    animate_maze(result, repeat=False)\n",
      "        Build an animation from a list of mazes. Assumes that results has the elements:\n",
      "        path, reached, actions and maze_anim with a list of maze arrays.\n",
      "\n",
      "    find_pos(maze, what='S')\n",
      "        Find start/goal in a maze and returns the first one.\n",
      "        Caution: there is no error checking!\n",
      "\n",
      "        Parameters:\n",
      "        maze: a array with characters prodced by parse_maze()\n",
      "        what: the letter to be found ('S' for start and 'G' for goal)\n",
      "\n",
      "        Returns:\n",
      "        a tupple (x, y) for the found position.\n",
      "\n",
      "    look(maze, pos)\n",
      "        Look at the label of a square with the position as an array of the form (x, y).\n",
      "\n",
      "    maze_to_matrix(maze)\n",
      "        convert a maze a numeric numpy array for visualization via imshow.\n",
      "\n",
      "    parse_maze(maze_str)\n",
      "        Convert a maze as a string into a 2d numpy array\n",
      "\n",
      "    show_maze(maze, fontsize=10)\n",
      "        Display a (parsed) maze as an image.\n",
      "\n",
      "    welcome()\n",
      "        Welcome message.\n",
      "\n",
      "FILE\n",
      "    c:\\users\\pc\\onedrive\\máy tính\\py\\csttntnc\\lab2\\maze_helper.py\n",
      "\n",
      "\n"
     ]
    }
   ],
   "source": [
    "help(mh)"
   ]
  },
  {
   "cell_type": "markdown",
   "metadata": {},
   "source": [
    "Bạn sẽ cần tạo một bản sao cục bộ của file module [maze_helper.py](maze_helper.py) trong cùng thư mục mà notebook của bạn đang ở."
   ]
  },
  {
   "cell_type": "markdown",
   "metadata": {},
   "source": [
    "## Cấu trúc cây\n",
    "\n",
    "Đây là một triển khai của cấu trúc nút cơ bản cho các thuật toán tìm kiếm (xem Hình 3.7 trang 73). Tôi đã thêm một phương thức trích xuất đường đi từ nút gốc đến nút hiện tại. Nó có thể được sử dụng để lấy đường đi khi tìm kiếm hoàn thành."
   ]
  },
  {
   "cell_type": "code",
   "execution_count": 67,
   "metadata": {},
   "outputs": [],
   "source": [
    "class Node:\n",
    "    def __init__(self, pos, parent, action, cost):\n",
    "        self.pos = tuple(pos)    # the state; positions are (row,col)\n",
    "        self.parent = parent     # reference to parent node. None means root node.\n",
    "        self.action = action     # action used in the transition function (root node has None)\n",
    "        self.cost = cost         # for uniform cost this is the depth. It is also g(n) for A* search\n",
    "\n",
    "    def __str__(self):\n",
    "        return f\"Node - pos = {self.pos}; action = {self.action}; cost = {self.cost}\"\n",
    "    \n",
    "    def get_path_from_root(self):\n",
    "        \"\"\"returns nodes on the path from the root to the current node.\"\"\"\n",
    "        node = self\n",
    "        path = [node]\n",
    "    \n",
    "        while not node.parent is None:\n",
    "            node = node.parent\n",
    "            path.append(node)\n",
    "        \n",
    "        path.reverse()\n",
    "        \n",
    "        return(path)"
   ]
  },
  {
   "cell_type": "markdown",
   "metadata": {},
   "source": [
    "Nếu cần, bạn có thể thêm nhiều trường vào class như giá trị heuristic $h(n)$ hoặc $f(n)$.\n",
    "\n",
    "Các ví dụ về cách tạo và sử dụng cây cũng như thông tin về quản lý bộ nhớ có thể được tìm thấy [tại đây](../HOWTOs/trees.ipynb)."
   ]
  },
  {
   "cell_type": "markdown",
   "metadata": {},
   "source": [
    "# Nhiệm vụ\n",
    "\n",
    "Mục tiêu là:\n",
    "\n",
    "1. Triển khai các thuật toán tìm kiếm sau để giải các mê cung khác nhau:\n",
    "\n",
    "    - Tìm kiếm theo chiều rộng (BFS)\n",
    "    - Tìm kiếm theo chiều sâu (DFS)\n",
    "    - Tìm kiếm tham lam theo chiều rộng tốt nhất (GBFS)\n",
    "    - Tìm kiếm A*\n",
    "\n",
    "2. Chạy từng thuật toán trên trên các mê cung:\n",
    "    - [mê cung nhỏ](small_maze.txt), \n",
    "    - [mê cung trung bình](medium_maze.txt), \n",
    "    - [mê cung lớn](large_maze.txt), \n",
    "    - [mê cung mở](open_maze.txt),\n",
    "    - [mê cung tường](wall_maze.txt),\n",
    "    - [mê cung vòng lặp](loops_maze.txt),\n",
    "    - [mê cung trống](empty_maze.txt), và\n",
    "    - [mê cung trống 2](empty_2_maze.txt).\n",
    "    \n",
    "3. Đối với mỗi bài toán và mỗi thuật toán tìm kiếm, báo cáo những thông tin sau trong một bảng:\n",
    "\n",
    "    - Giải pháp và chi phí đường đi của nó\n",
    "    - Tổng số nút được mở rộng\n",
    "    - Độ sâu cây tối đa\n",
    "    - Kích thước tối đa của frontier\n",
    "\n",
    "4. Hiển thị mỗi giải pháp bằng cách đánh dấu mỗi ô vuông mê cung (hoặc trạng thái) đã được thăm và các ô vuông trên đường đi cuối cùng.\n",
    "\n",
    "## Tổng quát [10 Điểm]\n",
    "\n",
    "1. Đảm bảo rằng bạn sử dụng phiên bản mới nhất của notebook này.\n",
    "2. Triển khai của bạn có thể sử dụng các thư viện như math, numpy, scipy, nhưng không được sử dụng các thư viện triển khai intelligent agents hoặc thuật toán tìm kiếm hoàn chỉnh. Cố gắng giữ code đơn giản! Trong khóa học này, chúng ta muốn học về các thuật toán và chúng ta thường không cần sử dụng thiết kế hướng đối tượng.\n",
    "3. Notebook của bạn cần được định dạng chuyên nghiệp.\n",
    "    - Thêm các khối markdown bổ sung cho mô tả của bạn, comments trong code, thêm bảng và sử dụng matplotlib để tạo biểu đồ khi thích hợp\n",
    "    - Không hiển thị đầu ra debug hoặc bao gồm quá nhiều đầu ra.\n",
    "    - Kiểm tra rằng file nộp của bạn có thể đọc được và chứa tất cả các hình ảnh.\n",
    "4. Tài liệu hóa code của bạn. Sử dụng comments trong code và thêm thảo luận về cách triển khai của bạn hoạt động và các lựa chọn thiết kế của bạn."
   ]
  },
  {
   "cell_type": "markdown",
   "metadata": {},
   "source": [
    "## Nhiệm vụ 1: Định nghĩa bài toán tìm kiếm và xác định kích thước bài toán [10 Điểm]\n",
    "\n",
    "Định nghĩa các thành phần của bài toán tìm kiếm:\n",
    "\n",
    "* Trạng thái ban đầu\n",
    "* Hành động\n",
    "* Mô hình chuyển đổi\n",
    "* Trạng thái mục tiêu\n",
    "* Chi phí đường đi\n",
    "\n",
    "Sử dụng mô tả bằng lời, biến và phương trình khi thích hợp.\n",
    "\n",
    "*Lưu ý:* Bạn có thể chuyển khối tiếp theo từ code sang Markdown và sử dụng định dạng."
   ]
  },
  {
   "cell_type": "markdown",
   "metadata": {},
   "source": [
    "## Định nghĩa các thành phần của bài toán tìm kiếm mê cung:\n",
    "\n",
    "### 1. Trạng thái ban đầu (Initial State)\n",
    "- **Định nghĩa**: Vị trí bắt đầu của agent trong mê cung, được ký hiệu bởi 'S'\n",
    "- **Biểu diễn**: Tọa độ $(row, col)$ trong mảng 2D numpy\n",
    "- **Ví dụ**: Trong mê cung nhỏ, trạng thái ban đầu là $(3, 7)$\n",
    "\n",
    "### 2. Hành động (Actions)\n",
    "- **Tập hành động**: $A = \\{North, South, East, West\\}$\n",
    "- **Mô tả**: Agent có thể di chuyển lên, xuống, trái, phải\n",
    "- **Điều kiện**: Chỉ có thể di chuyển đến ô trống (không phải tường 'X')\n",
    "\n",
    "### 3. Mô hình chuyển đổi (Transition Model)\n",
    "- **Hàm chuyển đổi**: $T(s, a) = s'$\n",
    "- **Quy tắc**:\n",
    "  - $North$: $(row, col) \\rightarrow (row-1, col)$\n",
    "  - $South$: $(row, col) \\rightarrow (row+1, col)$  \n",
    "  - $East$: $(row, col) \\rightarrow (row, col+1)$\n",
    "  - $West$: $(row, col) \\rightarrow (row, col-1)$\n",
    "- **Ràng buộc**: Chỉ di chuyển nếu ô đích không phải tường và trong giới hạn mê cung\n",
    "\n",
    "### 4. Trạng thái mục tiêu (Goal State)\n",
    "- **Định nghĩa**: Vị trí đích cần đạt được, được ký hiệu bởi 'G'\n",
    "- **Kiểm tra mục tiêu**: $Goal\\_Test(s) = True$ nếu $s$ chứa ký tự 'G'\n",
    "- **Ví dụ**: Trong mê cung nhỏ, trạng thái mục tiêu là $(8, 1)$\n",
    "\n",
    "### 5. Chi phí đường đi (Path Cost)\n",
    "- **Hàm chi phí**: $g(n) =$ số bước từ trạng thái ban đầu đến nút $n$\n",
    "- **Chi phí mỗi bước**: $cost(s, a, s') = 1$ (mỗi di chuyển có chi phí bằng 1)\n",
    "- **Tổng chi phí**: $g(P) = |P| - 1$ với $|P|$ là số ô trên đường đi\n",
    "- **Mục tiêu**: Tìm đường đi với chi phí tối thiểu (ít bước nhất)\n",
    "\n",
    "### 6. Không gian trạng thái (State Space)\n",
    "- Bao gồm tất cả các ô hợp lệ trong mê cung (không phải tường 'X').\n",
    "- Kích thước tối đa của không gian trạng thái là $H \\times W$, với $H$ và $W$ lần lượt là số hàng và số cột của mê cung.\n"
   ]
  },
  {
   "cell_type": "markdown",
   "metadata": {},
   "source": [
    "Đưa ra một số ước tính về kích thước bài toán:\n",
    "\n",
    "* $n$: kích thước không gian trạng thái\n",
    "* $d$: độ sâu của giải pháp tối ưu\n",
    "* $m$: độ sâu tối đa của cây\n",
    "* $b$: hệ số phân nhánh tối đa\n",
    "\n",
    "Mô tả cách bạn sẽ xác định các giá trị này cho một mê cung nhất định."
   ]
  },
  {
   "cell_type": "code",
   "execution_count": 68,
   "metadata": {},
   "outputs": [
    {
     "name": "stdout",
     "output_type": "stream",
     "text": [
      "=== PHÂN TÍCH KÍCH THƯỚC BÀI TOÁN ===\n",
      "Kích thước mê cung: 10 x 22\n",
      "n (không gian trạng thái): 94 ô có thể di chuyển\n",
      "d (độ sâu tối ưu ước tính): 15 (khoảng cách Manhattan)\n",
      "m (độ sâu tối đa): 93\n",
      "b (hệ số phân nhánh tối đa): 4\n",
      "\n",
      "Start: (np.int64(3), np.int64(11))\n",
      "Goal: (np.int64(8), np.int64(1))\n",
      "\n",
      "=== CÁCH XÁC ĐỊNH CÁC GIÁ TRỊ ===\n",
      "• n: Đếm số ô không phải tường (maze != 'X')\n",
      "• d: Khoảng cách Manhattan từ S đến G (ước tính lower bound)\n",
      "• m: Số ô có thể di chuyển - 1 (trường hợp xấu nhất)\n",
      "• b: 4 (tối đa có thể di chuyển 4 hướng: North, South, East, West)\n"
     ]
    }
   ],
   "source": [
    "# Phân tích kích thước bài toán cho mê cung nhỏ\n",
    "import numpy as np\n",
    "\n",
    "# Tính toán các thông số cho small maze\n",
    "def analyze_maze_size(maze):\n",
    "    \"\"\"Phân tích và ước tính kích thước bài toán\"\"\"\n",
    "    \n",
    "    rows, cols = maze.shape\n",
    "    print(f\"Kích thước mê cung: {rows} x {cols}\")\n",
    "    \n",
    "    # n: kích thước không gian trạng thái (số ô có thể di chuyển)\n",
    "    free_spaces = np.count_nonzero(maze != 'X')\n",
    "    print(f\"n (không gian trạng thái): {free_spaces} ô có thể di chuyển\")\n",
    "    \n",
    "    # Tìm vị trí start và goal để ước tính độ sâu\n",
    "    start_pos = mh.find_pos(maze, 'S')\n",
    "    goal_pos = mh.find_pos(maze, 'G') \n",
    "    \n",
    "    # d: độ sâu giải pháp tối ưu (ước tính bằng khoảng cách Manhattan)\n",
    "    manhattan_dist = abs(start_pos[0] - goal_pos[0]) + abs(start_pos[1] - goal_pos[1])\n",
    "    print(f\"d (độ sâu tối ưu ước tính): {manhattan_dist} (khoảng cách Manhattan)\")\n",
    "    \n",
    "    # m: độ sâu tối đa (trong trường hợp xấu nhất phải đi qua tất cả ô)\n",
    "    max_depth = free_spaces - 1\n",
    "    print(f\"m (độ sâu tối đa): {max_depth}\")\n",
    "    \n",
    "    # b: hệ số phân nhánh tối đa (tối đa 4 hướng)\n",
    "    branching_factor = 4\n",
    "    print(f\"b (hệ số phân nhánh tối đa): {branching_factor}\")\n",
    "    \n",
    "    return {\n",
    "        'n': free_spaces,\n",
    "        'd': manhattan_dist, \n",
    "        'm': max_depth,\n",
    "        'b': branching_factor\n",
    "    }\n",
    "\n",
    "# Phân tích mê cung nhỏ\n",
    "print(\"=== PHÂN TÍCH KÍCH THƯỚC BÀI TOÁN ===\")\n",
    "maze_stats = analyze_maze_size(maze)\n",
    "\n",
    "print(f\"\\nStart: {mh.find_pos(maze, 'S')}\")\n",
    "print(f\"Goal: {mh.find_pos(maze, 'G')}\")\n",
    "\n",
    "print(\"\\n=== CÁCH XÁC ĐỊNH CÁC GIÁ TRỊ ===\")\n",
    "print(\"• n: Đếm số ô không phải tường (maze != 'X')\")\n",
    "print(\"• d: Khoảng cách Manhattan từ S đến G (ước tính lower bound)\")\n",
    "print(\"• m: Số ô có thể di chuyển - 1 (trường hợp xấu nhất)\")  \n",
    "print(\"• b: 4 (tối đa có thể di chuyển 4 hướng: North, South, East, West)\")"
   ]
  },
  {
   "cell_type": "markdown",
   "metadata": {},
   "source": [
    "## Nhiệm vụ 2: Tìm kiếm không thông tin: Theo chiều rộng và theo chiều sâu [40 Điểm]\n",
    "\n",
    "Triển khai các chiến lược tìm kiếm này. Tuân theo mã giả trong sách giáo khoa/slides. Bạn có thể sử dụng cấu trúc cây được hiển thị ở trên để trích xuất đường đi cuối cùng từ giải pháp của mình.\n",
    "\n",
    "Đọc các **lưu ý quan trọng** sau một cách cẩn thận:\n",
    "* Bạn có thể tìm thấy các triển khai giải mê cung trực tuyến sử dụng bản đồ để lưu trữ thông tin. Mặc dù đây là một ý tưởng hiệu quả cho bài toán điều hướng hai chiều này, nhưng nó thường không thể được sử dụng cho các bài toán tìm kiếm khác. Do đó, hãy tuân theo sách giáo khoa và **không lưu trữ thông tin trong bản đồ.** Chỉ lưu trữ thông tin trong cây được tạo trong quá trình tìm kiếm, và sử dụng các cấu trúc dữ liệu `reached` và `frontier` khi thích hợp.\n",
    "* Hành vi DSF có thể được triển khai bằng thuật toán tree search BFS và chỉ đơn giản là thay đổi thứ tự mà frontier được mở rộng (điều này tương đương với best-first search với độ dài đường đi như là tiêu chí để mở rộng nút tiếp theo). Tuy nhiên, đây sẽ là một sai lầm lớn vì nó kết hợp độ phức tạp không gian xấu của BFS với độ phức tạp thời gian xấu của DFS! **Để tận dụng lợi thế về dung lượng bộ nhớ nhỏ hơn đáng kể của DFS, bạn cần triển khai DFS theo cách khác mà không có cấu trúc dữ liệu `reached` (thường cũng được gọi là `visited` hoặc `explored`) và bằng cách giải phóng bộ nhớ cho các nút không còn cần thiết nữa.**\n",
    "* Vì triển khai đúng của DFS không sử dụng cấu trúc dữ liệu `reached`, khả năng kiểm tra đường đi dư thừa được giới hạn ở việc kiểm tra chu trình. \n",
    "Bạn cần triển khai **kiểm tra chu trình vì DSF không đầy đủ (tạo ra vòng lặp vô hạn) nếu không thể ngăn chặn các chu trình.** Bạn sẽ thấy trong các thí nghiệm của mình rằng việc kiểm tra chu trình trong không gian mở là thách thức."
   ]
  },
  {
   "cell_type": "code",
   "execution_count": 69,
   "metadata": {},
   "outputs": [],
   "source": [
    "# Triển khai thuật toán BFS và DFS cho giải mê cung\n",
    "from collections import deque\n",
    "import copy\n",
    "\n",
    "# Định nghĩa các hành động có thể thực hiện\n",
    "ACTIONS = [\n",
    "    ('North', (-1, 0)),\n",
    "    ('South', (1, 0)), \n",
    "    ('East', (0, 1)),\n",
    "    ('West', (0, -1))\n",
    "]\n",
    "\n",
    "def get_neighbors(maze, pos):\n",
    "    \"\"\"Lấy các vị trí hợp lệ có thể di chuyển từ vị trí hiện tại\"\"\"\n",
    "    neighbors = []\n",
    "    row, col = pos\n",
    "    \n",
    "    for action_name, (dr, dc) in ACTIONS:\n",
    "        new_row, new_col = row + dr, col + dc\n",
    "        \n",
    "        # Kiểm tra trong giới hạn và không phải tường\n",
    "        if (0 <= new_row < maze.shape[0] and \n",
    "            0 <= new_col < maze.shape[1] and \n",
    "            maze[new_row, new_col] != 'X'):\n",
    "            neighbors.append(((new_row, new_col), action_name))\n",
    "    \n",
    "    return neighbors"
   ]
  },
  {
   "cell_type": "markdown",
   "metadata": {},
   "source": [
    "### Thuật toán BFS\n",
    "BFS dùng queue (FIFO) và tập reached"
   ]
  },
  {
   "cell_type": "code",
   "execution_count": 70,
   "metadata": {},
   "outputs": [],
   "source": [
    "from collections import deque\n",
    "\n",
    "def bfs_search(maze):\n",
    "    \"\"\"\n",
    "    Tìm đường bằng thuật toán BFS (breadth-first search).\n",
    "    Trả về: đường đi, chi phí, số nút mở rộng, độ sâu tối đa và\n",
    "    kích thước frontier lớn nhất.\n",
    "    \"\"\"\n",
    "    start = mh.find_pos(maze, 'S')\n",
    "    goal  = mh.find_pos(maze, 'G')\n",
    "\n",
    "    root = Node(start, None, None, 0)\n",
    "    frontier = deque([root])        # Hàng đợi FIFO\n",
    "    visited  = {start}              # Trạng thái đã gặp\n",
    "\n",
    "    expanded = 0                    # Số nút đã mở rộng\n",
    "    max_frontier = 1\n",
    "    max_depth = 0\n",
    "\n",
    "    while frontier:\n",
    "        max_frontier = max(max_frontier, len(frontier))\n",
    "\n",
    "        node = frontier.popleft()\n",
    "        expanded += 1\n",
    "        max_depth = max(max_depth, node.cost)\n",
    "\n",
    "        if node.pos == goal:        # Đã tới đích\n",
    "            return {\n",
    "                'path' : node.get_path_from_root(),\n",
    "                'cost' : node.cost,\n",
    "                'nodes_expanded' : expanded,\n",
    "                'max_depth' : max_depth,\n",
    "                'max_frontier_size' : max_frontier\n",
    "            }\n",
    "\n",
    "        # Mở rộng các láng giềng hợp lệ\n",
    "        for nxt_pos, action in get_neighbors(maze, node.pos):\n",
    "            if nxt_pos not in visited:\n",
    "                visited.add(nxt_pos)\n",
    "                frontier.append(Node(nxt_pos, node, action, node.cost + 1))\n",
    "\n",
    "    # Không tìm thấy đường đi\n",
    "    return {\n",
    "        'path' : None,\n",
    "        'cost' : None,\n",
    "        'nodes_expanded' : expanded,\n",
    "        'max_depth' : max_depth,\n",
    "        'max_frontier_size' : max_frontier\n",
    "    }\n"
   ]
  },
  {
   "cell_type": "markdown",
   "metadata": {},
   "source": [
    "### Thuật toán DFS\n",
    "DFS đệ quy, không dùng reached, kiểm tra chu trình"
   ]
  },
  {
   "cell_type": "code",
   "execution_count": 71,
   "metadata": {},
   "outputs": [],
   "source": [
    "def dfs_search(maze, depth_limit=1000):\n",
    "    \"\"\"\n",
    "    Tìm đường bằng DFS (Depth-First Search) đệ quy.\n",
    "    Chỉ kiểm tra chu trình trên đường đi hiện tại,\n",
    "    không dùng tập visited toàn cục.\n",
    "    \"\"\"\n",
    "    start = mh.find_pos(maze, 'S')\n",
    "    goal  = mh.find_pos(maze, 'G')\n",
    "\n",
    "    expanded = 0\n",
    "    max_depth = 0\n",
    "    max_frontier = 1\n",
    "\n",
    "    def dfs(node, path):\n",
    "        nonlocal expanded, max_depth, max_frontier\n",
    "        expanded += 1\n",
    "        max_depth = max(max_depth, node.cost)\n",
    "\n",
    "        if node.pos == goal:            # Đã tới đích\n",
    "            return node\n",
    "        if node.cost >= depth_limit:     # Giới hạn độ sâu\n",
    "            return None\n",
    "\n",
    "        neighbors = get_neighbors(maze, node.pos)\n",
    "        max_frontier = max(max_frontier, len(neighbors))\n",
    "\n",
    "        for nxt_pos, action in neighbors:\n",
    "            if nxt_pos not in path:      # Tránh chu trình trên đường hiện tại\n",
    "                child = Node(nxt_pos, node, action, node.cost + 1)\n",
    "                result = dfs(child, path | {nxt_pos})\n",
    "                if result:\n",
    "                    return result\n",
    "        return None\n",
    "\n",
    "    root = Node(start, None, None, 0)\n",
    "    goal_node = dfs(root, {start})\n",
    "\n",
    "    return {\n",
    "        'path' : goal_node.get_path_from_root() if goal_node else None,\n",
    "        'cost' : goal_node.cost if goal_node else None,\n",
    "        'nodes_expanded' : expanded,\n",
    "        'max_depth' : max_depth,\n",
    "        'max_frontier_size' : max_frontier\n",
    "    }\n"
   ]
  },
  {
   "cell_type": "markdown",
   "metadata": {},
   "source": [
    "### Kiểm thử và so sánh"
   ]
  },
  {
   "cell_type": "code",
   "execution_count": 72,
   "metadata": {},
   "outputs": [
    {
     "name": "stdout",
     "output_type": "stream",
     "text": [
      "\n",
      "=== KẾT QUẢ BFS ===\n",
      "  1. Chi phí đường đi : 19\n",
      "  2. Số nút mở rộng  : 93\n",
      "  3. Độ sâu tối đa   : 19\n",
      "  4. Frontier lớn nhất : 9\n",
      "\n",
      "=== KẾT QUẢ DFS ===\n",
      "  1. Chi phí đường đi : 37\n",
      "  2. Số nút mở rộng  : 94\n",
      "  3. Độ sâu tối đa   : 44\n",
      "  4. Frontier lớn nhất : 3\n"
     ]
    }
   ],
   "source": [
    "def print_result(name, result):\n",
    "    \"\"\"In kết quả của một thuật toán tìm kiếm.\"\"\"\n",
    "    print(f\"\\n=== KẾT QUẢ {name.upper()} ===\")\n",
    "    if result['path']:\n",
    "        print(f\"  1. Chi phí đường đi : {result['cost']}\")\n",
    "        print(f\"  2. Số nút mở rộng  : {result['nodes_expanded']}\")\n",
    "        print(f\"  3. Độ sâu tối đa   : {result['max_depth']}\")\n",
    "        print(f\"  4. Frontier lớn nhất : {result['max_frontier_size']}\")\n",
    "    else:\n",
    "        print(\"Không tìm thấy đường đi\")\n",
    "\n",
    "# Gọi hàm kiểm thử\n",
    "print_result(\"BFS\", bfs_search(maze))\n",
    "print_result(\"DFS\", dfs_search(maze))\n"
   ]
  },
  {
   "cell_type": "markdown",
   "metadata": {},
   "source": [
    "BFS và DFS (không có cấu trúc dữ liệu reached) xử lý vòng lặp (chu trình) như thế nào?"
   ]
  },
  {
   "cell_type": "markdown",
   "metadata": {},
   "source": [
    "##### Cách BFS và DFS xử lý vòng lặp (chu trình)\n",
    "\n",
    "##### 1. **BFS – Breadth-First Search**\n",
    "* **Cấu trúc dữ liệu `reached`**: Duy trì một tập (set) các trạng thái đã thăm.  \n",
    "* **Nguyên tắc**: Khi mở rộng một nút, chỉ thêm các trạng thái **chưa** xuất hiện trong `reached`.  \n",
    "* **Kết quả**:  \n",
    "  * Tránh hoàn toàn việc thăm lại ⇒ không có vòng lặp vô hạn.  \n",
    "  * Đảm bảo **tính đầy đủ** (nếu có đường đi sẽ tìm thấy) và **tối ưu** (đường đi ngắn nhất theo số bước).  \n",
    "* **Đánh đổi**: Cần nhiều bộ nhớ để lưu toàn bộ tập `reached`.\n",
    "\n",
    "---\n",
    "\n",
    "##### 2. **DFS – Depth-First Search**\n",
    "* **Không dùng tập `reached` toàn cục** (để tiết kiệm bộ nhớ).  \n",
    "* **Kiểm tra chu trình cục bộ**: Chỉ theo dõi các vị trí đã xuất hiện **trên đường đi hiện tại** từ gốc đến nút đang xét.  \n",
    "* **Nguy cơ**:  \n",
    "  * Có thể lặp lại các vùng đã khám phá (miễn không nằm trên đường đi hiện tại).  \n",
    "  * Dẫn tới đường đi dài hơn hoặc vòng lặp vô hạn.  \n",
    "* **Biện pháp**: Đặt giới hạn độ sâu `max_depth_limit` để cắt vòng lặp.\n",
    "\n",
    "---\n",
    "\n",
    "##### 3. **So sánh thực nghiệm (ví dụ mê cung nhỏ)**\n",
    "\n",
    "| Thuật toán | Độ dài đường đi | Ghi chú |\n",
    "|------------|-----------------|--------|\n",
    "| **BFS**    | ~19 bước        | Luôn tìm đường tối ưu, không bị lặp |\n",
    "| **DFS**    | ~37 bước        | Đường đi có thể dài hơn, phụ thuộc giới hạn độ sâu |\n",
    "\n",
    "---\n",
    "\n",
    "**Tóm tắt**  \n",
    "* **BFS**: An toàn, đầy đủ, tối ưu nhưng tốn bộ nhớ.  \n",
    "* **DFS**: Tiết kiệm bộ nhớ, nhưng dễ lặp và cần giới hạn độ sâu để tránh vòng lặp lớn.\n"
   ]
  },
  {
   "cell_type": "markdown",
   "metadata": {},
   "source": [
    "Các triển khai của bạn có đầy đủ và tối ưu không? Giải thích tại sao. Độ phức tạp thời gian và không gian của mỗi triển khai của **bạn** là gì? Đặc biệt thảo luận về sự khác biệt trong độ phức tạp không gian giữa BFS và DFS."
   ]
  },
  {
   "cell_type": "markdown",
   "metadata": {},
   "source": [
    "##### Phân tích tính đầy đủ, tối ưu và độ phức tạp\n",
    "\n",
    "##### **BFS – Breadth-First Search**\n",
    "\n",
    "**Đầy đủ & Tối ưu**  \n",
    "* ✅ **Đầy đủ**: Luôn tìm được lời giải nếu tồn tại, vì mở rộng theo từng “lớp” độ sâu.  \n",
    "* ✅ **Tối ưu**: Khi chi phí mỗi bước = 1, BFS tìm đúng đường đi ngắn nhất.\n",
    "\n",
    "**Độ phức tạp**  \n",
    "* **Thời gian**: `O(b^d)`  \n",
    "  * `b`: hệ số phân nhánh tối đa.  \n",
    "  * `d`: độ sâu của lời giải tối ưu.  \n",
    "* **Không gian**: `O(b^d)` – phải lưu toàn bộ hàng đợi (frontier) và tập `reached`.  \n",
    "* **Ví dụ thực nghiệm**: Mê cung nhỏ mở rộng ~93 nút, frontier tối đa ~9 nút.\n",
    "\n",
    "---\n",
    "\n",
    "##### **DFS – Depth-First Search** (không dùng `reached` toàn cục)\n",
    "\n",
    "**Đầy đủ & Tối ưu**  \n",
    "* ⚠️ **Không hoàn toàn đầy đủ**: Có thể lặp vô hạn nếu không đặt giới hạn độ sâu.  \n",
    "* ❌ **Không tối ưu**: Có thể tìm thấy lời giải dài hơn đường ngắn nhất.  \n",
    "* ✅ **Với giới hạn độ sâu**: Đầy đủ trong không gian trạng thái hữu hạn.\n",
    "\n",
    "**Độ phức tạp**  \n",
    "* **Thời gian**: `O(b^m)`  \n",
    "  * `m`: độ sâu tối đa của cây trạng thái.  \n",
    "* **Không gian**: `O(b·m)` – chỉ cần lưu một nhánh từ gốc tới nút hiện tại và các nút con đang xét.  \n",
    "* **Ví dụ thực nghiệm**: Mê cung nhỏ mở rộng ~94 nút, frontier tối đa ~3 nút.\n",
    "\n",
    "---\n",
    "\n",
    "##### **So sánh độ phức tạp không gian**\n",
    "\n",
    "| Thuật toán | Không gian | Ưu điểm | Nhược điểm |\n",
    "|------------|-----------|--------|-----------|\n",
    "| **BFS**    | `O(b^d)`  | Đầy đủ, tối ưu | Rất tốn bộ nhớ |\n",
    "| **DFS**    | `O(b·m)`  | Tiết kiệm bộ nhớ | Không tối ưu, có thể lặp |\n",
    "\n",
    "---\n",
    "\n",
    "**Kết luận**  \n",
    "* **BFS**: Đầy đủ và tối ưu, thích hợp khi bộ nhớ đủ lớn.  \n",
    "* **DFS**: Tiết kiệm bộ nhớ vượt trội, phù hợp khi không gian trạng thái sâu/rộng, nhưng phải giới hạn độ sâu và chấp nhận không tối ưu.\n"
   ]
  },
  {
   "cell_type": "markdown",
   "metadata": {},
   "source": [
    "## Nhiệm vụ 3: Tìm kiếm có thông tin: Triển khai tìm kiếm tham lam theo chiều rộng tốt nhất và tìm kiếm A*  [20 Điểm]\n",
    "\n",
    "Bạn có thể sử dụng bản đồ để ước tính khoảng cách từ vị trí hiện tại của bạn đến mục tiêu bằng cách sử dụng khoảng cách Manhattan (xem https://en.wikipedia.org/wiki/Taxicab_geometry) như một hàm heuristic. Cả hai thuật toán đều dựa trên Best-First search chỉ yêu cầu một thay đổi nhỏ từ thuật toán BFS mà bạn đã triển khai (xem sách giáo khoa/slides)."
   ]
  },
  {
   "cell_type": "code",
   "execution_count": 73,
   "metadata": {},
   "outputs": [],
   "source": [
    "# Nhiệm vụ 3: Triển khai GBFS (Greedy Best-First Search) và A*\n",
    "import heapq\n",
    "\n",
    "def manhattan_distance(pos1, pos2):\n",
    "    \"\"\"Tính khoảng cách Manhattan giữa hai vị trí.\"\"\"\n",
    "    return abs(pos1[0] - pos2[0]) + abs(pos1[1] - pos2[1])\n",
    "\n",
    "class NodeWithHeuristic(Node):\n",
    "    \"\"\"Node mở rộng, bổ sung heuristic cho GBFS và A*.\"\"\"\n",
    "    def __init__(self, pos, parent, action, cost, heuristic=0):\n",
    "        super().__init__(pos, parent, action, cost)\n",
    "        self.h = heuristic          # h(n): giá trị heuristic\n",
    "        self.f = cost + heuristic   # f(n) = g(n) + h(n) (cho A*)\n",
    "    def __lt__(self, other):\n",
    "        \"\"\"So sánh theo f để dùng trong priority queue.\"\"\"\n",
    "        return self.f < other.f\n"
   ]
  },
  {
   "cell_type": "markdown",
   "metadata": {},
   "source": [
    "#### Greedy Best-First Search\n",
    "Ưu tiên nút có h(n) nhỏ nhất."
   ]
  },
  {
   "cell_type": "code",
   "execution_count": 74,
   "metadata": {},
   "outputs": [],
   "source": [
    "def gbfs_search(maze):\n",
    "    \"\"\"Greedy Best-First Search: mở rộng nút có h(n) nhỏ nhất.\"\"\"\n",
    "    start, goal = mh.find_pos(maze, 'S'), mh.find_pos(maze, 'G')\n",
    "    h0 = manhattan_distance(start, goal)\n",
    "    root = NodeWithHeuristic(start, None, None, 0, h0)\n",
    "\n",
    "    frontier = [(h0, 0, root)]          # (h, tie, node)\n",
    "    reached = {start}\n",
    "    expanded = depth = 0\n",
    "    max_front = 1\n",
    "    tie = 1\n",
    "\n",
    "    while frontier:\n",
    "        max_front = max(max_front, len(frontier))\n",
    "        _, _, node = heapq.heappop(frontier)\n",
    "        expanded += 1\n",
    "        depth = max(depth, node.cost)\n",
    "\n",
    "        if node.pos == goal:\n",
    "            return {\n",
    "                'path': node.get_path_from_root(),\n",
    "                'cost': node.cost,\n",
    "                'nodes_expanded': expanded,\n",
    "                'max_depth': depth,\n",
    "                'max_frontier_size': max_front,\n",
    "                'reached': reached\n",
    "            }\n",
    "\n",
    "        for nxt, act in get_neighbors(maze, node.pos):\n",
    "            if nxt not in reached:\n",
    "                reached.add(nxt)\n",
    "                h = manhattan_distance(nxt, goal)\n",
    "                heapq.heappush(frontier,\n",
    "                               (h, tie, NodeWithHeuristic(nxt, node, act, node.cost + 1, h)))\n",
    "                tie += 1\n",
    "\n",
    "    return {\n",
    "        'path': None, 'cost': None,\n",
    "        'nodes_expanded': expanded, 'max_depth': depth,\n",
    "        'max_frontier_size': max_front, 'reached': reached\n",
    "    }\n"
   ]
  },
  {
   "cell_type": "markdown",
   "metadata": {},
   "source": [
    "##### A* Search\n",
    "\n",
    "Ưu tiên nút có f(n) = g(n) + h(n) nhỏ nhất."
   ]
  },
  {
   "cell_type": "code",
   "execution_count": 75,
   "metadata": {},
   "outputs": [],
   "source": [
    "def astar_search(maze):\n",
    "    \"\"\"A* Search: mở rộng nút có f(n)=g(n)+h(n) nhỏ nhất.\"\"\"\n",
    "    start, goal = mh.find_pos(maze, 'S'), mh.find_pos(maze, 'G')\n",
    "    h0 = manhattan_distance(start, goal)\n",
    "    root = NodeWithHeuristic(start, None, None, 0, h0)\n",
    "\n",
    "    frontier = [(root.f, 0, root)]      # (f, tie, node)\n",
    "    reached = {start: 0}                # best g(n) cho mỗi trạng thái\n",
    "    expanded = depth = 0\n",
    "    max_front = 1\n",
    "    tie = 1\n",
    "\n",
    "    while frontier:\n",
    "        max_front = max(max_front, len(frontier))\n",
    "        _, _, node = heapq.heappop(frontier)\n",
    "\n",
    "        # Bỏ qua nếu đã có đường đi rẻ hơn\n",
    "        if reached.get(node.pos, float('inf')) < node.cost:\n",
    "            continue\n",
    "\n",
    "        expanded += 1\n",
    "        depth = max(depth, node.cost)\n",
    "\n",
    "        if node.pos == goal:\n",
    "            return {\n",
    "                'path': node.get_path_from_root(),\n",
    "                'cost': node.cost,\n",
    "                'nodes_expanded': expanded,\n",
    "                'max_depth': depth,\n",
    "                'max_frontier_size': max_front,\n",
    "                'reached': reached\n",
    "            }\n",
    "\n",
    "        for nxt, act in get_neighbors(maze, node.pos):\n",
    "            g = node.cost + 1\n",
    "            if g < reached.get(nxt, float('inf')):\n",
    "                reached[nxt] = g\n",
    "                h = manhattan_distance(nxt, goal)\n",
    "                heapq.heappush(frontier,\n",
    "                               (g + h, tie, NodeWithHeuristic(nxt, node, act, g, h)))\n",
    "                tie += 1\n",
    "\n",
    "    return {\n",
    "        'path': None, 'cost': None,\n",
    "        'nodes_expanded': expanded,\n",
    "        'max_depth': depth,\n",
    "        'max_frontier_size': max_front,\n",
    "        'reached': reached\n",
    "    }\n"
   ]
  },
  {
   "cell_type": "markdown",
   "metadata": {},
   "source": [
    "##### Kiểm thử & So sánh"
   ]
  },
  {
   "cell_type": "code",
   "execution_count": 76,
   "metadata": {},
   "outputs": [
    {
     "name": "stdout",
     "output_type": "stream",
     "text": [
      "=== KẾT QUẢ GREEDY BEST-FIRST & A* ===\n",
      "GBFS | Chi phí: 29 | Nút mở rộng: 40 | Độ sâu max: 29 | Frontier max: 5\n",
      "A* | Chi phí: 19 | Nút mở rộng: 54 | Độ sâu max: 19 | Frontier max: 8\n",
      "\n",
      "=== BẢNG SO SÁNH KẾT QUẢ ===\n",
      "Thuật toán Chi phí  Nút mở rộng    Frontier max  \n",
      "--------------------------------------------------\n",
      "BFS      19       93             9             \n",
      "DFS      37       94             3             \n",
      "GBFS     29       40             5             \n",
      "A*       19       54             8             \n"
     ]
    }
   ],
   "source": [
    "# --- Kiểm thử & So sánh GBFS và A* ---\n",
    "def print_result(name, result):\n",
    "    \"\"\"In thống kê cho từng thuật toán.\"\"\"\n",
    "    if result['path']:\n",
    "        print(f\"{name} | Chi phí: {result['cost']} | \"\n",
    "              f\"Nút mở rộng: {result['nodes_expanded']} | \"\n",
    "              f\"Độ sâu max: {result['max_depth']} | \"\n",
    "              f\"Frontier max: {result['max_frontier_size']}\")\n",
    "    else:\n",
    "        print(f\"{name} | Không tìm thấy đường đi\")\n",
    "\n",
    "print(\"=== KẾT QUẢ GREEDY BEST-FIRST & A* ===\")\n",
    "print_result(\"GBFS\", gbfs_result := gbfs_search(maze))\n",
    "print_result(\"A*\",   astar_result := astar_search(maze))\n",
    "\n",
    "# --- Bảng so sánh tất cả thuật toán ---\n",
    "print(\"\\n=== BẢNG SO SÁNH KẾT QUẢ ===\")\n",
    "print(f\"{'Thuật toán':<8} {'Chi phí':<8} {'Nút mở rộng':<14} {'Frontier max':<14}\")\n",
    "print(\"-\"*50)\n",
    "\n",
    "def row(name, r):\n",
    "    if r['path']:\n",
    "        print(f\"{name:<8} {r['cost']:<8} {r['nodes_expanded']:<14} {r['max_frontier_size']:<14}\")\n",
    "\n",
    "row(\"BFS\",  bfs_result)\n",
    "row(\"DFS\",  dfs_result)\n",
    "row(\"GBFS\", gbfs_result)\n",
    "row(\"A*\",   astar_result)\n"
   ]
  },
  {
   "cell_type": "markdown",
   "metadata": {},
   "source": [
    "Các triển khai của bạn có đầy đủ và tối ưu không? Độ phức tạp thời gian và không gian là gì?"
   ]
  },
  {
   "cell_type": "markdown",
   "metadata": {},
   "source": [
    "##### Phân tích GBFS và A*\n",
    "\n",
    "##### Greedy Best-First Search (GBFS)\n",
    "\n",
    "* **Đầy đủ**: ✅ Trong **đồ thị hữu hạn**, GBFS sẽ tìm được lời giải nếu có.  \n",
    "* **Tối ưu**: ❌ Không đảm bảo tối ưu vì chỉ xét **h(n)**, bỏ qua chi phí thực **g(n)**.  \n",
    "* **Độ phức tạp**:  \n",
    "  * **Thời gian**: O(b^m) trong trường hợp xấu nhất  \n",
    "  * **Không gian**: O(b^m) (phải lưu frontier và reached)  \n",
    "    * b: branching factor  \n",
    "    * m: độ sâu tối đa  \n",
    "* **Ưu điểm**: Thường mở rộng ít nút hơn BFS/DFS khi heuristic tốt.  \n",
    "* **Ví dụ mê cung**: Tìm đường dài 29 bước (tối ưu là 19) và mở rộng 40 nút.\n",
    "\n",
    "##### A* Search\n",
    "\n",
    "* **Đầy đủ**: ✅ Sẽ tìm giải pháp nếu tồn tại, với điều kiện chi phí cạnh dương.  \n",
    "* **Tối ưu**: ✅ Khi heuristic **admissible** (không vượt quá chi phí thực) và **consistent**.  \n",
    "* **Độ phức tạp**:  \n",
    "  * **Thời gian**: O(b^d) với heuristic mạnh (d = độ sâu lời giải)  \n",
    "  * **Không gian**: O(b^d)  \n",
    "  * Trường hợp xấu nhất: O(b^m)  \n",
    "* **Ví dụ mê cung**: Đường đi tối ưu 19 bước, mở rộng ~54 nút.\n",
    "\n",
    "##### Heuristic Manhattan Distance\n",
    "\n",
    "* **Admissible**: ✅ Luôn ≤ chi phí thực tế (mỗi bước di chuyển 1 đơn vị).  \n",
    "* **Consistent**: ✅ Thỏa h(n) ≤ c(n,a,n') + h(n').  \n",
    "* **Lý do phù hợp**: Khoảng cách Manhattan phản ánh đúng chi phí trong lưới 4 hướng.\n",
    "\n",
    "##### So sánh nhanh\n",
    "\n",
    "| Thuật toán | Tối ưu | Chi phí tìm được | Nút mở rộng | Ghi chú chính |\n",
    "|------------|-------|------------------|------------|--------------|\n",
    "| **BFS**    | ✅    | 19               | 93         | Đảm bảo tối ưu nhưng tốn bộ nhớ |\n",
    "| **DFS**    | ❌    | 37               | 94         | Tiết kiệm bộ nhớ, đường đi dài |\n",
    "| **GBFS**   | ❌    | 29               | 40         | Nhanh, dựa nhiều vào heuristic |\n",
    "| **A\\***    | ✅    | 19               | 54         | Cân bằng giữa tối ưu và số nút mở rộng |\n",
    "\n",
    "##### Kết luận\n",
    "Với heuristic Manhattan, **A\\*** là lựa chọn tốt nhất: vừa tối ưu, vừa mở rộng ít nút hơn BFS, dù vẫn tốn không gian lớn hơn GBFS.\n",
    "\n",
    "---\n",
    "\n",
    "**Nhận xét về triển khai**\n",
    "\n",
    "* Cài đặt `NodeWithHeuristic` với `f = g + h` và dùng priority queue là chuẩn cho cả GBFS (dùng h làm f) và A*.  \n",
    "* Độ phức tạp đã nêu (O(b^d) hoặc O(b^m)) là chuẩn sách giáo khoa; không thể “tối ưu” hơn về lý thuyết.  \n",
    "* Tối ưu thực tế:  \n",
    "  * Sử dụng `set` cho `closed_set` để tra cứu O(1).  \n",
    "  * Giảm lưu thông tin thừa trong mỗi node nếu bộ nhớ hạn chế.\n"
   ]
  },
  {
   "cell_type": "markdown",
   "metadata": {},
   "source": [
    "## Nhiệm vụ 4: So sánh và thảo luận [20 Điểm] \n",
    "\n",
    "Chạy thí nghiệm để so sánh các thuật toán đã triển khai.\n",
    "\n",
    "Cách xử lý các vấn đề:\n",
    "\n",
    "* Triển khai của bạn trả về kết quả bất ngờ: Cố gắng debug và sửa code. Việc trực quan hóa mê cung, đường đi hiện tại và frontier sau mỗi bước rất hữu ích. Nếu code vẫn không hoạt động, thì đánh dấu kết quả bằng dấu hoa thị (*) và mô tả vấn đề bên dưới bảng.\n",
    "\n",
    "* Triển khai của bạn không thể liên tục giải một mê cung cụ thể và kết thúc trong vòng lặp vô hạn:\n",
    "    Debug (có thể frontier và kiểm tra chu trình cho DFS là vấn đề). Nếu đó là một thiếu sót của thuật toán/triển khai, thì đặt \"N/A*\" trong bảng kết quả và mô tả tại sao điều này xảy ra."
   ]
  },
  {
   "cell_type": "code",
   "execution_count": 77,
   "metadata": {},
   "outputs": [
    {
     "name": "stdout",
     "output_type": "stream",
     "text": [
      "🚀 THỰC NGHIỆM TRÊN MÊ CUNG\n",
      "Đang chạy tất cả thuật toán...\n",
      "\n",
      "======================================================================\n",
      "BẢNG SO SÁNH CÁC THUẬT TOÁN\n",
      "======================================================================\n",
      "Thuật toánChi phí   Nút mở    Độ sâu    Frontier  \n",
      "------------------------------------------------------------\n",
      "BFS       19        93        19        9         \n",
      "DFS       37        94        44        3         \n",
      "GBFS      29        40        29        5         \n",
      "A_        19        54        19        8         \n",
      "\n",
      "PHÂN TÍCH:\n",
      "✅ Tối ưu (chi phí 19): BFS, A_\n",
      "⚡ Ít nút mở (40): GBFS\n",
      "💾 Tiết kiệm bộ nhớ (3): DFS\n",
      "\n",
      "TRỰC QUAN HÓA ĐƯỜNG ĐI\n",
      "\n",
      "BFS - Tối ưu (Chi phí: 19):\n"
     ]
    },
    {
     "data": {
      "image/png": "[encoded data removed]",
      "text/plain": [
       "<Figure size 640x480 with 1 Axes>"
      ]
     },
     "metadata": {
      "image/png": {
       "height": 269,
       "width": 534
      }
     },
     "output_type": "display_data"
    },
    {
     "name": "stdout",
     "output_type": "stream",
     "text": [
      "\n",
      "A* - Tối ưu & hiệu quả (Chi phí: 19):\n"
     ]
    },
    {
     "data": {
      "image/png": "[encoded data removed]",
      "text/plain": [
       "<Figure size 640x480 with 1 Axes>"
      ]
     },
     "metadata": {
      "image/png": {
       "height": 269,
       "width": 534
      }
     },
     "output_type": "display_data"
    }
   ],
   "source": [
    "# ================== HÀM TIỆN ÍCH ==================\n",
    "\n",
    "def visualize_path(maze, path, title=\"Đường đi\"):\n",
    "    \"\"\"Hiển thị đường đi trên mê cung\"\"\"\n",
    "    if not path:\n",
    "        return print(f\"{title}: Không tìm thấy đường đi\")\n",
    "    m = np.copy(maze)\n",
    "    for i, n in enumerate(path[1:-1]):  # Bỏ start/goal\n",
    "        m[n.pos[0], n.pos[1]] = 'P'\n",
    "    print(f\"\\n{title} (Chi phí: {len(path)-1}):\")\n",
    "    mh.show_maze(m)\n",
    "\n",
    "def run_all(maze):\n",
    "    \"\"\"Chạy BFS, DFS, GBFS, A* và trả kết quả\"\"\"\n",
    "    algs = dict(\n",
    "        BFS=bfs_search,\n",
    "        DFS=dfs_search,\n",
    "        GBFS=gbfs_search,\n",
    "        A_=astar_search\n",
    "    )\n",
    "    print(\"Đang chạy tất cả thuật toán...\")\n",
    "    return {k: f(maze) for k, f in algs.items()}\n",
    "\n",
    "def compare(results):\n",
    "    \"\"\"In bảng và phân tích so sánh\"\"\"\n",
    "    print(\"\\n\" + \"=\"*70)\n",
    "    print(\"BẢNG SO SÁNH CÁC THUẬT TOÁN\")\n",
    "    print(\"=\"*70)\n",
    "    print(f\"{'Thuật toán':<10}{'Chi phí':<10}{'Nút mở':<10}{'Độ sâu':<10}{'Frontier':<10}\")\n",
    "    print(\"-\"*60)\n",
    "\n",
    "    # In bảng\n",
    "    for name, r in results.items():\n",
    "        cost = r['cost'] if r['path'] else \"N/A\"\n",
    "        print(f\"{name:<10}{cost:<10}{r['nodes_expanded']:<10}{r['max_depth']:<10}{r['max_frontier_size']:<10}\")\n",
    "\n",
    "    # Phân tích nhanh\n",
    "    print(\"\\nPHÂN TÍCH:\")\n",
    "    valid = [r for r in results.values() if r['path']]\n",
    "    if not valid: return\n",
    "    min_cost = min(r['cost'] for r in valid)\n",
    "    min_exp = min(r['nodes_expanded'] for r in valid)\n",
    "    min_mem = min(r['max_frontier_size'] for r in valid)\n",
    "\n",
    "    opt = [k for k,v in results.items() if v.get('path') and v['cost']==min_cost]\n",
    "    eff = [k for k,v in results.items() if v.get('path') and v['nodes_expanded']==min_exp]\n",
    "    mem = [k for k,v in results.items() if v.get('path') and v['max_frontier_size']==min_mem]\n",
    "\n",
    "    print(f\"✅ Tối ưu (chi phí {min_cost}): {', '.join(opt)}\")\n",
    "    print(f\"⚡ Ít nút mở ({min_exp}): {', '.join(eff)}\")\n",
    "    print(f\"💾 Tiết kiệm bộ nhớ ({min_mem}): {', '.join(mem)}\")\n",
    "\n",
    "# ================== THỰC NGHIỆM ==================\n",
    "print(\"🚀 THỰC NGHIỆM TRÊN MÊ CUNG\")\n",
    "res = run_all(maze)\n",
    "compare(res)\n",
    "\n",
    "print(\"\\nTRỰC QUAN HÓA ĐƯỜNG ĐI\")\n",
    "if res['BFS']['path']:\n",
    "    visualize_path(maze, res['BFS']['path'], \"BFS - Tối ưu\")\n",
    "if res['A_']['path']:\n",
    "    visualize_path(maze, res['A_']['path'], \"A* - Tối ưu & hiệu quả\")\n"
   ]
  },
  {
   "cell_type": "markdown",
   "metadata": {},
   "source": [
    "## Bảng kết quả chi tiết cho từng mê cung\n",
    "\n",
    "### 🟢 Mê cung nhỏ (`small_maze.txt`)\n",
    "\n",
    "| Thuật toán | Chi phí đường đi | Nút mở rộng | Độ sâu tối đa | Nút tối đa trong bộ nhớ* | Frontier tối đa |\n",
    "|------------|------------------|------------|--------------|--------------------------|-----------------|\n",
    "| **BFS**    | **19**          | 93         | 19           | 102                      | 9              |\n",
    "| **DFS**    | 37             | 94         | 44           | 47                       | 3              |\n",
    "| **GBFS**   | 29             | **40**     | 29           | 45                       | 5              |\n",
    "| **A***     | **19**         | 54         | 19           | 62                       | 8              |\n",
    "\n",
    "*\\*Nút tối đa trong bộ nhớ ≈ `nodes_expanded + max_frontier_size` (ước tính)*\n",
    "\n",
    "---\n",
    "\n",
    "### 💡 Nhận xét\n",
    "\n",
    "#### Chi phí đường đi\n",
    "- ✅ **BFS** và **A*** tìm được đường đi **tối ưu (19 bước)**.\n",
    "- ❌ **DFS** kém nhất với 37 bước.\n",
    "- ⚠️ **GBFS** trung bình, 29 bước, **không tối ưu**.\n",
    "\n",
    "#### Hiệu quả tìm kiếm\n",
    "- 🏆 **GBFS** mở **ít nút nhất (40)** nhưng đánh đổi tính tối ưu.\n",
    "- 🥈 **A*** cân bằng: **54 nút** mở rộng, **tối ưu**.\n",
    "- 🥉 **BFS** tối ưu nhưng **tốn tài nguyên (93 nút)**.\n",
    "- 😔 **DFS** vừa **không tối ưu**, vừa **mở rộng nhiều**.\n",
    "\n",
    "#### Sử dụng bộ nhớ\n",
    "- 💚 **DFS** tiết kiệm nhất (frontier tối đa **3 nút**).\n",
    "- 💛 **GBFS** và **A*** dùng bộ nhớ **trung bình**.\n",
    "- 💔 **BFS** tốn bộ nhớ nhất (frontier **9 nút**).\n",
    "\n",
    "---\n",
    "\n",
    "### 🔑 Kết luận cho mê cung nhỏ\n",
    "- ⭐ **A***: **Lựa chọn tốt nhất** – tối ưu, hiệu quả, bộ nhớ hợp lý.\n",
    "- BFS: đảm bảo tối ưu nhưng tốn tài nguyên.\n",
    "- GBFS: nhanh, ít nút mở rộng nhưng **không đảm bảo tối ưu**.\n",
    "- DFS: chỉ phù hợp khi **bộ nhớ cực kỳ hạn chế**.\n",
    "\n",
    "---\n",
    "\n",
    "> **Lưu ý**: Hiện chỉ test trên `small_maze.txt`.  \n",
    "> Để đánh giá toàn diện hơn (ví dụ `medium_maze.txt`, `large_maze.txt`), cần tải các file mê cung khác về cùng thư mục và chạy lại.\n"
   ]
  },
  {
   "cell_type": "markdown",
   "metadata": {},
   "source": [
    "Trình bày kết quả dưới dạng biểu đồ (xem [Python Code Examples/charts and tables](../HOWTOs/charts_and_tables.ipynb))."
   ]
  },
  {
   "cell_type": "code",
   "execution_count": 78,
   "metadata": {},
   "outputs": [
    {
     "name": "stdout",
     "output_type": "stream",
     "text": [
      "Bảng kết quả chi tiết cho small_maze.txt:\n",
      "Thuật toán  Chi phí đường đi  Nút mở rộng  Độ sâu tối đa  Nút tối đa trong bộ nhớ  Frontier tối đa\n",
      "       BFS                19           93             19                      102                9\n",
      "       DFS                37           94             44                       47                3\n",
      "      GBFS                29           40             29                       45                5\n",
      "        A*                19           54             19                       62                8\n"
     ]
    },
    {
     "data": {
      "image/png": "[encoded data removed]",
      "text/plain": [
       "<Figure size 800x500 with 1 Axes>"
      ]
     },
     "metadata": {
      "image/png": {
       "height": 450,
       "width": 687
      }
     },
     "output_type": "display_data"
    },
    {
     "data": {
      "image/png": "[encoded data removed]",
      "text/plain": [
       "<Figure size 800x500 with 1 Axes>"
      ]
     },
     "metadata": {
      "image/png": {
       "height": 451,
       "width": 686
      }
     },
     "output_type": "display_data"
    },
    {
     "data": {
      "image/png": "[encoded data removed]",
      "text/plain": [
       "<Figure size 800x500 with 1 Axes>"
      ]
     },
     "metadata": {
      "image/png": {
       "height": 451,
       "width": 678
      }
     },
     "output_type": "display_data"
    }
   ],
   "source": [
    "# Thêm biểu đồ\n",
    "import matplotlib.pyplot as plt\n",
    "import pandas as pd\n",
    "\n",
    "# =============================\n",
    "# DỮ LIỆU KẾT QUẢ (small_maze.txt)\n",
    "# =============================\n",
    "data = {\n",
    "    \"Thuật toán\": [\"BFS\",\"DFS\",\"GBFS\",\"A*\"],\n",
    "    \"Chi phí đường đi\": [19, 37, 29, 19],\n",
    "    \"Nút mở rộng\": [93, 94, 40, 54],\n",
    "    \"Độ sâu tối đa\": [19, 44, 29, 19],\n",
    "    \"Nút tối đa trong bộ nhớ\": [102, 47, 45, 62],\n",
    "    \"Frontier tối đa\": [9, 3, 5, 8]\n",
    "}\n",
    "\n",
    "df = pd.DataFrame(data)\n",
    "\n",
    "# =============================\n",
    "# HIỂN THỊ BẢNG\n",
    "# =============================\n",
    "print(\"Bảng kết quả chi tiết cho small_maze.txt:\")\n",
    "print(df.to_string(index=False))\n",
    "\n",
    "# =============================\n",
    "# VẼ BIỂU ĐỒ\n",
    "# =============================\n",
    "\n",
    "algorithms = df[\"Thuật toán\"]\n",
    "\n",
    "# 1. Chi phí đường đi\n",
    "plt.figure(figsize=(8,5))\n",
    "plt.bar(algorithms, df[\"Chi phí đường đi\"], color=[\"skyblue\",\"salmon\",\"orange\",\"green\"])\n",
    "plt.title(\"So sánh chi phí đường đi (small_maze.txt)\")\n",
    "plt.ylabel(\"Số bước\")\n",
    "plt.show()\n",
    "\n",
    "# 2. Nút mở rộng\n",
    "plt.figure(figsize=(8,5))\n",
    "plt.bar(algorithms, df[\"Nút mở rộng\"], color=\"purple\")\n",
    "plt.title(\"So sánh số nút mở rộng (small_maze.txt)\")\n",
    "plt.ylabel(\"Số nút\")\n",
    "plt.show()\n",
    "\n",
    "# 3. Frontier tối đa\n",
    "plt.figure(figsize=(8,5))\n",
    "plt.bar(algorithms, df[\"Frontier tối đa\"], color=\"teal\")\n",
    "plt.title(\"So sánh Frontier tối đa (small_maze.txt)\")\n",
    "plt.ylabel(\"Số nút\")\n",
    "plt.show()\n"
   ]
  },
  {
   "cell_type": "markdown",
   "metadata": {},
   "source": [
    "Thảo luận về những bài học quan trọng nhất mà bạn đã học được từ việc triển khai các chiến lược tìm kiếm khác nhau."
   ]
  },
  {
   "cell_type": "markdown",
   "metadata": {},
   "source": [
    "##### Những bài học quan trọng từ việc triển khai các chiến lược tìm kiếm\n",
    "\n",
    "##### 1. Không có thuật toán “hoàn hảo” cho mọi tình huống  \n",
    "Mỗi thuật toán có ưu – nhược điểm riêng và phù hợp với các bối cảnh khác nhau:  \n",
    "- **BFS**: đảm bảo tối ưu nhưng tốn bộ nhớ → phù hợp khi cần lời giải ngắn nhất và tài nguyên đủ.  \n",
    "- **DFS**: tiết kiệm bộ nhớ nhưng không tối ưu → phù hợp khi bộ nhớ hạn chế.  \n",
    "- **A\\***: cân bằng tốt → thường là lựa chọn tổng quát tốt nhất.  \n",
    "- **GBFS**: rất nhanh nhưng không đảm bảo tối ưu → phù hợp khi cần kết quả nhanh, chấp nhận sai số.  \n",
    "\n",
    "---\n",
    "\n",
    "##### 2. Tầm quan trọng của heuristic function  \n",
    "- Heuristic **admissible** và **consistent** là điều kiện để A* hoạt động tối ưu.  \n",
    "- Khoảng cách Manhattan thường rất hiệu quả trong bài toán mê cung.  \n",
    "- Heuristic tốt giúp giảm mạnh số nút cần mở rộng.  \n",
    "\n",
    "---\n",
    "\n",
    "##### 3. Trade-off giữa thời gian và không gian  \n",
    "- **BFS vs DFS**: BFS đảm bảo tối ưu nhưng tốn O(b^d) bộ nhớ, DFS chỉ cần O(bd).  \n",
    "- **Informed vs Uninformed**: Thuật toán có thông tin (A*, GBFS) thường hiệu quả hơn nhiều.  \n",
    "- Cần cân nhắc giữa tối ưu, tốc độ và tài nguyên theo từng ứng dụng cụ thể.  \n",
    "\n",
    "---\n",
    "\n",
    "##### 4. Tầm quan trọng của việc xử lý chu trình  \n",
    "- **BFS**: dùng tập `reached` → an toàn nhưng tốn bộ nhớ.  \n",
    "- **DFS**: chỉ kiểm tra chu trình trên path hiện tại → tiết kiệm bộ nhớ nhưng có rủi ro.  \n",
    "- Trong đồ thị nhiều chu trình, cần xử lý cẩn thận để tránh vòng lặp vô hạn.  \n",
    "\n",
    "---\n",
    "\n",
    "##### 5. Ứng dụng thực tế  \n",
    "- **GPS Navigation**: A* với heuristic khoảng cách thực tế.  \n",
    "- **Game AI**: dùng A* hoặc GBFS tùy yêu cầu real-time.  \n",
    "- **Robotics**: cần cân nhắc giữa tối ưu và tài nguyên tính toán.  \n",
    "- **Network routing**: BFS cho shortest path, DFS cho khám phá topology.  \n",
    "\n",
    "---\n",
    "\n",
    "##### 6. Bài học về implementation  \n",
    "- Cấu trúc dữ liệu (queue, stack, priority queue) ảnh hưởng trực tiếp đến hiệu suất.  \n",
    "- Kiểm tra điều kiện dừng và edge cases là bắt buộc.  \n",
    "- Code rõ ràng, có comment giúp debug và maintain dễ dàng.  \n",
    "- Test trên nhiều loại input khác nhau để đảm bảo tính robust.  \n",
    "\n",
    "---\n",
    "\n",
    "##### 7. Kết luận chung  \n",
    "Việc triển khai và so sánh các thuật toán tìm kiếm giúp hiểu sâu về:  \n",
    "- Cách các thuật toán hoạt động trong thực tế.  \n",
    "- Trade-offs giữa các yếu tố (time, space, optimality).  \n",
    "- Tầm quan trọng của việc chọn thuật toán phù hợp với bài toán.  \n",
    "- Kỹ năng phân tích và đánh giá hiệu suất algorithm.  \n"
   ]
  },
  {
   "cell_type": "markdown",
   "metadata": {},
   "source": [
    "## Nhiệm vụ nâng cao: IDS và Nhiều mục tiêu\n",
    "\n",
    "* __Sinh viên sau đại học__ cần hoàn thành nhiệm vụ này [10 điểm]\n",
    "* __Sinh viên đại học__ có thể thử làm như một nhiệm vụ thưởng [tối đa +5 điểm thưởng].\n",
    "\n",
    "### IDS \n",
    "Triển khai IDS (tìm kiếm sâu dần lặp) sử dụng triển khai DFS của bạn. Kiểm tra IDS trên các mê cung ở trên. Bạn có thể gặp một số vấn đề với các mê cung có không gian mở. Nếu bạn không thể giải quyết các vấn đề, thì báo cáo và thảo luận nguyên nhân gây ra các vấn đề."
   ]
  },
  {
   "cell_type": "code",
   "execution_count": 61,
   "metadata": {},
   "outputs": [
    {
     "name": "stdout",
     "output_type": "stream",
     "text": [
      "✅ IDS tìm thấy đường đi:\n",
      "   Chi phí: 19\n",
      "   Độ sâu tìm thấy: 19\n",
      "   Đường đi: [(np.int64(3), np.int64(11)), (np.int64(3), np.int64(12)), (np.int64(3), np.int64(13)), (np.int64(4), np.int64(13)), (np.int64(5), np.int64(13)), (np.int64(5), np.int64(12)), (np.int64(6), np.int64(12)), (np.int64(7), np.int64(12)), (np.int64(7), np.int64(11)), (np.int64(7), np.int64(10)), (np.int64(8), np.int64(10)), (np.int64(8), np.int64(9)), (np.int64(8), np.int64(8)), (np.int64(8), np.int64(7)), (np.int64(8), np.int64(6)), (np.int64(8), np.int64(5)), (np.int64(8), np.int64(4)), (np.int64(8), np.int64(3)), (np.int64(8), np.int64(2)), (np.int64(8), np.int64(1))]\n"
     ]
    }
   ],
   "source": [
    "from collections import deque\n",
    "import maze_helper as mh\n",
    "import numpy as np\n",
    "\n",
    "def depth_limited_search(maze, start, goal, limit):\n",
    "    \"\"\"DFS với giới hạn độ sâu\"\"\"\n",
    "    stack = [(start, [start])]\n",
    "\n",
    "    while stack:\n",
    "        pos, path = stack.pop()\n",
    "        if pos == goal:\n",
    "            return path\n",
    "        # Độ sâu = len(path) - 1\n",
    "        if len(path) - 1 < limit:\n",
    "            for dr, dc in [(-1,0), (1,0), (0,-1), (0,1)]:\n",
    "                ni, nj = pos[0] + dr, pos[1] + dc\n",
    "                new_pos = (ni, nj)\n",
    "                if (0 <= ni < maze.shape[0] and 0 <= nj < maze.shape[1] \n",
    "                    and maze[new_pos] != 'X' \n",
    "                    and new_pos not in path):\n",
    "                    stack.append((new_pos, path + [new_pos]))\n",
    "    return None\n",
    "\n",
    "def IDS(maze, max_depth=1000):\n",
    "    \"\"\"Iterative Deepening Search\"\"\"\n",
    "    start = mh.find_pos(maze, 'S')\n",
    "    goal = mh.find_pos(maze, 'G')\n",
    "    \n",
    "    for depth in range(max_depth):\n",
    "        path = depth_limited_search(maze, start, goal, depth)\n",
    "        if path:\n",
    "            return {\n",
    "                'path': path,\n",
    "                'depth': depth,\n",
    "                'cost': len(path) - 1\n",
    "            }\n",
    "    return None\n",
    "\n",
    "# =============================\n",
    "# Test IDS trên small_maze.txt\n",
    "# =============================\n",
    "with open(\"small_maze.txt\", \"r\") as f:\n",
    "    maze_str = f.read()\n",
    "\n",
    "maze = mh.parse_maze(maze_str)\n",
    "ids_result = IDS(maze)\n",
    "\n",
    "if ids_result:\n",
    "    print(\"✅ IDS tìm thấy đường đi:\")\n",
    "    print(f\"   Chi phí: {ids_result['cost']}\")\n",
    "    print(f\"   Độ sâu tìm thấy: {ids_result['depth']}\")\n",
    "    print(f\"   Đường đi: {ids_result['path']}\")\n",
    "else:\n",
    "    print(\"❌ IDS không tìm thấy lời giải\")\n"
   ]
  },
  {
   "cell_type": "markdown",
   "metadata": {},
   "source": [
    "### Nhiều mục tiêu (Multiple Goals)\n",
    "\n",
    "Tạo một vài mê cung với nhiều mục tiêu bằng cách thêm một hoặc hai điểm đích (G) vào mê cung cỡ trung bình.Agent sẽ hoàn thành khi nó tìm thấy một trong các mục tiêu.\n",
    "Giải mê cung bằng các thuật toán bạn đã cài đặt (DFS, BFS và IDS).\n",
    "Thực hiện các thí nghiệm để chỉ ra thuật toán nào tìm được lời giải tối ưu và thuật toán nào thì không.Thảo luận về nguyên nhân dẫn đến sự khác biệt này."
   ]
  },
  {
   "cell_type": "code",
   "execution_count": null,
   "metadata": {},
   "outputs": [],
   "source": [
    "# Your code/answer goes here"
   ]
  },
  {
   "cell_type": "markdown",
   "metadata": {},
   "source": [
    "## Các bài toán nâng cao hơn để suy nghĩ (không tính điểm)\n",
    "\n",
    "Nếu bài tập này quá dễ đối với bạn thì bạn có thể suy nghĩ về các vấn đề sau. Những bài toán này có tính thách thức và không phải là một phần của bài tập này.\n",
    "\n",
    "### Giao lộ như các trạng thái\n",
    "Thay vì định nghĩa mỗi ô vuông như một trạng thái, chỉ sử dụng các giao lộ như các trạng thái. Bây giờ yêu cầu lưu trữ được giảm, nhưng độ dài đường đi giữa hai giao lộ có thể khác nhau. Nếu chúng ta sử dụng tổng độ dài đường đi được đo bằng số ô vuông như chi phí đường đi, làm thế nào chúng ta có thể đảm bảo rằng BFS và tìm kiếm sâu dần lặp là tối ưu? Thay đổi code để làm như vậy."
   ]
  },
  {
   "cell_type": "code",
   "execution_count": null,
   "metadata": {},
   "outputs": [],
   "source": [
    "# Your code/answer goes here"
   ]
  },
  {
   "cell_type": "markdown",
   "metadata": {},
   "source": [
    "### Tìm kiếm A* có trọng số\n",
    "Sửa đổi tìm kiếm A* của bạn để thêm trọng số (xem sách giáo khoa) và khám phá cách các trọng số khác nhau ảnh hưởng đến kết quả."
   ]
  },
  {
   "cell_type": "code",
   "execution_count": null,
   "metadata": {},
   "outputs": [],
   "source": [
    "# Your code/answer goes here"
   ]
  },
  {
   "cell_type": "markdown",
   "metadata": {},
   "source": [
    "### Mê cung chưa biết\n",
    "Điều gì xảy ra nếu agent không biết trước bố cục của mê cung? Điều này có nghĩa là agent đối mặt với một môi trường chưa biết, nơi nó không biết hàm chuyển đổi. Môi trường trông như thế nào khi đó (mô tả PEAS)? Bạn sẽ triển khai một agent hợp lý như thế nào để giải mê cung? Điều gì sẽ xảy ra nếu agent vẫn có thiết bị GPS để biết khoảng cách đến mục tiêu?"
   ]
  },
  {
   "cell_type": "code",
   "execution_count": null,
   "metadata": {},
   "outputs": [],
   "source": [
    "# Your code/answer goes here"
   ]
  }
 ],
 "metadata": {
  "kernelspec": {
   "display_name": "Python 3",
   "language": "python",
   "name": "python3"
  },
  "language_info": {
   "codemirror_mode": {
    "name": "ipython",
    "version": 3
   },
   "file_extension": ".py",
   "mimetype": "text/x-python",
   "name": "python",
   "nbconvert_exporter": "python",
   "pygments_lexer": "ipython3",
   "version": "3.12.2"
  }
 },
 "nbformat": 4,
 "nbformat_minor": 4
}
